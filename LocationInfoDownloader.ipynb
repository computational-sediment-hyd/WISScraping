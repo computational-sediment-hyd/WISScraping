{
 "cells": [
  {
   "cell_type": "code",
   "execution_count": null,
   "id": "c129dc5a-8fb0-4eaa-ba32-460095c61803",
   "metadata": {},
   "outputs": [],
   "source": [
    "import WISScrapingTools as wis\n",
    "import pandas as pd\n",
    "import panel as pn\n",
    "from io import StringIO, BytesIO\n",
    "\n",
    "pn.extension()"
   ]
  },
  {
   "cell_type": "code",
   "execution_count": null,
   "id": "ca1e73ab-5f59-4b71-98b5-75b4324cb5ab",
   "metadata": {},
   "outputs": [],
   "source": [
    "def app():\n",
    "    df = wis.getAllSuikeis()\n",
    "    names = [str(i) + '_' + n for i, n in zip(df.id.values[1:], df.name.values[1:])]\n",
    "    dfn = pd.DataFrame({'name':names, 'id':df.id.values[1:]})\n",
    "    \n",
    "    select = pn.widgets.Select(name='name')\n",
    "    select.options = dfn.name.values.tolist()\n",
    "    \n",
    "    button1 = pn.widgets.Button(name='download', button_type='primary') \n",
    "    obj = pn.Column('# WIS location download', select, button1, '')\n",
    "    \n",
    "    def download(event):\n",
    "        # 作成した段階で実行されることに注意する。\n",
    "        obj[-1] = 'Wait a minute.'\n",
    "        \n",
    "        i = dfn[dfn['name'] == select.value].id.squeeze()\n",
    "        dff = wis.getAllStationsInSuikei(i, verbose=True, GeoDataFrame=True)\n",
    "    \n",
    "        sio = BytesIO()\n",
    "        d = dff.to_file(sio, driver='GeoJSON', encoding='UTF-8')\n",
    "        sio.seek(0)\n",
    "        \n",
    "        file_output = pn.widgets.FileDownload(sio, embed=True, filename=str(i)+'.geojson') \n",
    "        obj[-1] = file_output\n",
    "    \n",
    "    button1.on_click(download)\n",
    "\n",
    "    return obj\n",
    "    "
   ]
  },
  {
   "cell_type": "code",
   "execution_count": null,
   "id": "d5ead9ed-bd6e-42df-90c7-a20495389ece",
   "metadata": {},
   "outputs": [],
   "source": [
    "app().servable(title='app')"
   ]
  }
 ],
 "metadata": {
  "kernelspec": {
   "display_name": "Python 3 (ipykernel)",
   "language": "python",
   "name": "python3"
  },
  "language_info": {
   "codemirror_mode": {
    "name": "ipython",
    "version": 3
   },
   "file_extension": ".py",
   "mimetype": "text/x-python",
   "name": "python",
   "nbconvert_exporter": "python",
   "pygments_lexer": "ipython3",
   "version": "3.12.3"
  }
 },
 "nbformat": 4,
 "nbformat_minor": 5
}
